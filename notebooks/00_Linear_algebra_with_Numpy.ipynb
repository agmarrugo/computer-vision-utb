{
  "cells": [
    {
      "cell_type": "markdown",
      "metadata": {
        "id": "view-in-github",
        "colab_type": "text"
      },
      "source": [
        "<a href=\"https://colab.research.google.com/github/agmarrugo/computer-vision-utb/blob/main/notebooks/00_Linear_algebra_with_Numpy.ipynb\" target=\"_parent\"><img src=\"https://colab.research.google.com/assets/colab-badge.svg\" alt=\"Open In Colab\"/></a>"
      ]
    },
    {
      "cell_type": "markdown",
      "metadata": {
        "id": "JMBVNjNHzX_4"
      },
      "source": [
        "# Linear algebra with Numpy\n",
        "\n",
        "Andrés Marrugo, PhD    \n",
        "Universidad Tecnológica de Bolívar\n",
        "\n",
        "Based on the jupyter notebook by [Vince Knight](https://github.com/drvinceknight/Python-Mathematics-Handbook)\n",
        "\n",
        "Many computer vision algorithms require numeric computations performed with matrices and these are best solved with [Numpy](http://www.numpy.org/) a high performance numerical computing library.\n",
        "\n",
        "Here is how it is described:\n",
        "\n",
        "> NumPy is the fundamental package for scientific computing with Python. It contains among other things: [...]\n",
        " useful linear algebra, Fourier transform, and random number capabilities.\n",
        "\n",
        "This notebook is a way to review several linear algebra concepts and to get acquainted with their computation in Python. In this section we will see how to:\n",
        "\n",
        "- Manipulate matrices;\n",
        "- Solve Matrix equations;\n",
        "- Calculate Matrix inverse and determinants.\n",
        "\n",
        "## Manipulating matrices\n",
        "\n",
        "It is straightforward to create a Matrix using Numpy. Let us consider the following as a examples:\n",
        "\n",
        "$$\n",
        "A = \\begin{pmatrix}\n",
        "5 & 6 & 2\\\\\n",
        "4 & 7 & 19\\\\\n",
        "0 & 3 & 12\n",
        "\\end{pmatrix}\n",
        "$$\n",
        "\n",
        "$$\n",
        "B = \\begin{pmatrix}\n",
        "14 & -2 & 12\\\\\n",
        "4 & 4 & 5\\\\\n",
        "5 & 5 & 1\n",
        "\\end{pmatrix}\n",
        "$$\n",
        "\n",
        "\n",
        "First, we need to import Numpy:"
      ]
    },
    {
      "cell_type": "code",
      "execution_count": 1,
      "metadata": {
        "id": "1HHro_OBzX_6"
      },
      "outputs": [],
      "source": [
        "import numpy as np"
      ]
    },
    {
      "cell_type": "markdown",
      "metadata": {
        "id": "vsUBxK59zX_7"
      },
      "source": [
        "Now we can define $A$:"
      ]
    },
    {
      "cell_type": "code",
      "execution_count": 2,
      "metadata": {
        "id": "eSkg-tpQzX_7"
      },
      "outputs": [],
      "source": [
        "A = np.array([[5, 6, 2],\n",
        "               [4, 7, 19],\n",
        "               [0, 3, 12]])"
      ]
    },
    {
      "cell_type": "code",
      "execution_count": 3,
      "metadata": {
        "colab": {
          "base_uri": "https://localhost:8080/"
        },
        "id": "TdQ9DkFOzX_7",
        "outputId": "1269053c-1c06-4752-8355-e48b7ee312b1"
      },
      "outputs": [
        {
          "output_type": "execute_result",
          "data": {
            "text/plain": [
              "array([[ 5,  6,  2],\n",
              "       [ 4,  7, 19],\n",
              "       [ 0,  3, 12]])"
            ]
          },
          "metadata": {},
          "execution_count": 3
        }
      ],
      "source": [
        "A"
      ]
    },
    {
      "cell_type": "code",
      "execution_count": 4,
      "metadata": {
        "id": "fD-GjflVzX_8"
      },
      "outputs": [],
      "source": [
        "B = np.array([[14, -2, 12],\n",
        "               [4, 4, 5],\n",
        "               [5, 5, 1]])"
      ]
    },
    {
      "cell_type": "code",
      "execution_count": 5,
      "metadata": {
        "colab": {
          "base_uri": "https://localhost:8080/"
        },
        "id": "D8Hp2uj5zX_9",
        "outputId": "3514b2d3-d004-4f28-f041-eb44dbcc3bf4"
      },
      "outputs": [
        {
          "output_type": "execute_result",
          "data": {
            "text/plain": [
              "array([[14, -2, 12],\n",
              "       [ 4,  4,  5],\n",
              "       [ 5,  5,  1]])"
            ]
          },
          "metadata": {},
          "execution_count": 5
        }
      ],
      "source": [
        "B"
      ]
    },
    {
      "cell_type": "markdown",
      "metadata": {
        "id": "5q3uCE4nzX_-"
      },
      "source": [
        "We can obtain the following straightforwardly:\n",
        "\n",
        "- $5A$ (or any other scalar multiple of $A$);\n",
        "- $A ^ 3$ (or any other exponent of $A$);\n",
        "- $A + B$;\n",
        "- $A - B$;\n",
        "- $AB$"
      ]
    },
    {
      "cell_type": "code",
      "execution_count": 6,
      "metadata": {
        "colab": {
          "base_uri": "https://localhost:8080/"
        },
        "id": "rCaVwm0KzX_-",
        "outputId": "6fbe88e8-bcf2-4d6f-fc36-d8fdd2c303af"
      },
      "outputs": [
        {
          "output_type": "execute_result",
          "data": {
            "text/plain": [
              "array([[25, 30, 10],\n",
              "       [20, 35, 95],\n",
              "       [ 0, 15, 60]])"
            ]
          },
          "metadata": {},
          "execution_count": 6
        }
      ],
      "source": [
        "5 * A"
      ]
    },
    {
      "cell_type": "code",
      "execution_count": 7,
      "metadata": {
        "colab": {
          "base_uri": "https://localhost:8080/"
        },
        "id": "j_HeXWLFzX__",
        "outputId": "0cdf7f6b-48d8-4bb6-fa21-9a8ecb8ab103"
      },
      "outputs": [
        {
          "output_type": "execute_result",
          "data": {
            "text/plain": [
              "array([[ 125,  216,    8],\n",
              "       [  64,  343, 6859],\n",
              "       [   0,   27, 1728]])"
            ]
          },
          "metadata": {},
          "execution_count": 7
        }
      ],
      "source": [
        "A ** 3"
      ]
    },
    {
      "cell_type": "code",
      "execution_count": 8,
      "metadata": {
        "colab": {
          "base_uri": "https://localhost:8080/"
        },
        "id": "RFyFFs9HzX__",
        "outputId": "47b1b8a8-e1ff-4495-c3df-7a74474e7c8f"
      },
      "outputs": [
        {
          "output_type": "execute_result",
          "data": {
            "text/plain": [
              "array([[19,  4, 14],\n",
              "       [ 8, 11, 24],\n",
              "       [ 5,  8, 13]])"
            ]
          },
          "metadata": {},
          "execution_count": 8
        }
      ],
      "source": [
        "A + B"
      ]
    },
    {
      "cell_type": "code",
      "execution_count": 9,
      "metadata": {
        "colab": {
          "base_uri": "https://localhost:8080/"
        },
        "id": "W3yKCRRrzYAA",
        "outputId": "44726640-93bd-456d-87f1-2bbad711ce45"
      },
      "outputs": [
        {
          "output_type": "execute_result",
          "data": {
            "text/plain": [
              "array([[ -9,   8, -10],\n",
              "       [  0,   3,  14],\n",
              "       [ -5,  -2,  11]])"
            ]
          },
          "metadata": {},
          "execution_count": 9
        }
      ],
      "source": [
        "A - B"
      ]
    },
    {
      "cell_type": "code",
      "execution_count": 10,
      "metadata": {
        "colab": {
          "base_uri": "https://localhost:8080/"
        },
        "id": "gxPdcRWXzYAB",
        "outputId": "c1c154b8-08b5-4a6d-88df-5c7abb5a4e4d"
      },
      "outputs": [
        {
          "output_type": "execute_result",
          "data": {
            "text/plain": [
              "array([[104,  24,  92],\n",
              "       [179, 115, 102],\n",
              "       [ 72,  72,  27]])"
            ]
          },
          "metadata": {},
          "execution_count": 10
        }
      ],
      "source": [
        "A @ B"
      ]
    },
    {
      "cell_type": "markdown",
      "metadata": {
        "id": "dNHWoV4jRrJn"
      },
      "source": [
        "**Matrix multiplication.** Unfortunately, there are many ways to do [matrix multiplication in Python](https://blog.finxter.com/numpy-matmul-operator/ \"NumPy Matrix Multiplication — np.matmul() and @ [Ultimate Guide] | Finxter\"). The suggested way is to used the `@` operator because the `*` does not perform matrix multiplication.\n",
        "\n",
        "Check that `np.dot(A, B)` produces the same result."
      ]
    },
    {
      "cell_type": "code",
      "execution_count": 11,
      "metadata": {
        "colab": {
          "base_uri": "https://localhost:8080/"
        },
        "id": "1T03saLyS38F",
        "outputId": "b609d3d3-60bf-4f54-f55e-76e601f9a797"
      },
      "outputs": [
        {
          "output_type": "execute_result",
          "data": {
            "text/plain": [
              "array([[104,  24,  92],\n",
              "       [179, 115, 102],\n",
              "       [ 72,  72,  27]])"
            ]
          },
          "metadata": {},
          "execution_count": 11
        }
      ],
      "source": [
        "np.dot(A, B)"
      ]
    },
    {
      "cell_type": "markdown",
      "metadata": {
        "id": "a5DNyfa30-fP"
      },
      "source": [
        "---\n",
        "\n",
        "**EXERCISE** Compute $A ^ 2 - 2 A + 3$ with:\n",
        "\n",
        "$$A =\n",
        "\\begin{pmatrix}\n",
        "1 & -1\\\\\n",
        "2 & 1\n",
        "\\end{pmatrix}\n",
        "$$\n",
        "\n",
        "---"
      ]
    },
    {
      "cell_type": "code",
      "execution_count": 12,
      "metadata": {
        "id": "6vJiSS7_03yA"
      },
      "outputs": [],
      "source": [
        "# Write here the solution"
      ]
    },
    {
      "cell_type": "markdown",
      "metadata": {
        "id": "X0XpdHLNzYAC"
      },
      "source": [
        "## Solving Matrix equations\n",
        "\n",
        "We can use Numpy to (efficiently) solve large systems of equations of the form:\n",
        "\n",
        "$$Ax=b$$\n",
        "\n",
        "Let us illustrate that with:\n",
        "\n",
        "$$\n",
        "A = \\begin{pmatrix}\n",
        "5 & 6 & 2\\\\\n",
        "4 & 7 & 19\\\\\n",
        "0 & 3 & 12\n",
        "\\end{pmatrix}\n",
        "$$\n",
        "\n",
        "$$\n",
        "b = \\begin{pmatrix}\n",
        "-1\\\\\n",
        "2\\\\\n",
        "1\n",
        "\\end{pmatrix}\n",
        "$$"
      ]
    },
    {
      "cell_type": "code",
      "execution_count": 13,
      "metadata": {
        "id": "R1CALuF6zYAE"
      },
      "outputs": [],
      "source": [
        "A = np.array([[5, 6, 2],\n",
        "               [4, 7, 19],\n",
        "               [0, 3, 12]])\n",
        "b = np.array([[-1], [2], [1]])"
      ]
    },
    {
      "cell_type": "markdown",
      "metadata": {
        "id": "bnFh8G4MzYAG"
      },
      "source": [
        "We use the `linalg.solve` command:"
      ]
    },
    {
      "cell_type": "code",
      "execution_count": 14,
      "metadata": {
        "colab": {
          "base_uri": "https://localhost:8080/"
        },
        "id": "aLgDeASqzYAH",
        "outputId": "d60ec210-2a80-40a7-cb69-398fbde1a831"
      },
      "outputs": [
        {
          "output_type": "execute_result",
          "data": {
            "text/plain": [
              "array([[ 0.45736434],\n",
              "       [-0.62790698],\n",
              "       [ 0.24031008]])"
            ]
          },
          "metadata": {},
          "execution_count": 14
        }
      ],
      "source": [
        "x = np.linalg.solve(A, b)\n",
        "x"
      ]
    },
    {
      "cell_type": "markdown",
      "metadata": {
        "id": "3Abn5IkizYAI"
      },
      "source": [
        "We can verify our result:"
      ]
    },
    {
      "cell_type": "code",
      "execution_count": 15,
      "metadata": {
        "colab": {
          "base_uri": "https://localhost:8080/"
        },
        "id": "puPXV8E8zYAI",
        "outputId": "15d16bd3-ae3a-4341-a252-3ae5c32d6649"
      },
      "outputs": [
        {
          "output_type": "execute_result",
          "data": {
            "text/plain": [
              "array([[-1.],\n",
              "       [ 2.],\n",
              "       [ 1.]])"
            ]
          },
          "metadata": {},
          "execution_count": 15
        }
      ],
      "source": [
        "A @ x"
      ]
    },
    {
      "cell_type": "markdown",
      "metadata": {
        "id": "bcrHxjAA1TMe"
      },
      "source": [
        "---\n",
        "\n",
        "**EXERCISE** Compute the solutions to the matrix equation $Bx=b$ (using the $B$ defined earlier).\n",
        "\n",
        "---"
      ]
    },
    {
      "cell_type": "code",
      "execution_count": 16,
      "metadata": {
        "id": "BopE0Js21UQZ"
      },
      "outputs": [],
      "source": [
        "# Write the solution here"
      ]
    },
    {
      "cell_type": "markdown",
      "metadata": {
        "id": "h0pN62P4zYAJ"
      },
      "source": [
        "## Matrix inversion and determinants\n",
        "\n",
        "Computing the inverse of a matrix is straightforward:"
      ]
    },
    {
      "cell_type": "code",
      "execution_count": 17,
      "metadata": {
        "colab": {
          "base_uri": "https://localhost:8080/"
        },
        "id": "YkZVkHemzYAK",
        "outputId": "9112d0c7-0a28-4028-d4da-a6fafa9422a9"
      },
      "outputs": [
        {
          "output_type": "execute_result",
          "data": {
            "text/plain": [
              "array([[-0.20930233,  0.51162791, -0.7751938 ],\n",
              "       [ 0.37209302, -0.46511628,  0.6744186 ],\n",
              "       [-0.09302326,  0.11627907, -0.08527132]])"
            ]
          },
          "metadata": {},
          "execution_count": 17
        }
      ],
      "source": [
        "Ainv = np.linalg.inv(A)\n",
        "Ainv"
      ]
    },
    {
      "cell_type": "markdown",
      "metadata": {
        "id": "V92UrOm9zYAK"
      },
      "source": [
        "We can verify that $A^{-1}A=\\mathbb{1}$:"
      ]
    },
    {
      "cell_type": "code",
      "execution_count": 18,
      "metadata": {
        "colab": {
          "base_uri": "https://localhost:8080/"
        },
        "id": "FDSczBjMzYAL",
        "outputId": "ac8973ec-b9e5-4fbc-c53b-8dd752d72762",
        "tags": [
          "nbval-ignore-output"
        ]
      },
      "outputs": [
        {
          "output_type": "execute_result",
          "data": {
            "text/plain": [
              "array([[ 1.00000000e+00,  4.99600361e-16, -4.71844785e-16],\n",
              "       [ 1.38777878e-16,  1.00000000e+00, -2.63677968e-16],\n",
              "       [ 1.11022302e-16,  1.11022302e-16,  1.00000000e+00]])"
            ]
          },
          "metadata": {},
          "execution_count": 18
        }
      ],
      "source": [
        "A @ Ainv"
      ]
    },
    {
      "cell_type": "markdown",
      "metadata": {
        "id": "eme83ESCzYAL"
      },
      "source": [
        "The above might not look like the identity matrix but if you look closer you see that the diagonals are all `1` and the off diagonals are a **very** small number (which from a computer's point of view is `0`).\n",
        "\n",
        "We can also verify that `A @ Ainv` is close to the identity matrix `np.eye()` using the `np.allclose()` command."
      ]
    },
    {
      "cell_type": "code",
      "source": [
        "# Run this command to check that A @ Ainv is close to I\n",
        "np.allclose(A @ Ainv, np.eye(3,3))"
      ],
      "metadata": {
        "colab": {
          "base_uri": "https://localhost:8080/"
        },
        "id": "YFvYO4j98HGk",
        "outputId": "18247835-85c4-4fa6-baed-d63c2a8dd26a"
      },
      "execution_count": 19,
      "outputs": [
        {
          "output_type": "execute_result",
          "data": {
            "text/plain": [
              "True"
            ]
          },
          "metadata": {},
          "execution_count": 19
        }
      ]
    },
    {
      "cell_type": "markdown",
      "metadata": {
        "id": "3zFLJ0bVzYAM"
      },
      "source": [
        "To calculate the determinant:"
      ]
    },
    {
      "cell_type": "code",
      "execution_count": 20,
      "metadata": {
        "colab": {
          "base_uri": "https://localhost:8080/"
        },
        "id": "koPyt0w3zYAM",
        "outputId": "9088e7ef-4655-42a5-cd15-c89ca2961e5a",
        "tags": [
          "nbval-ignore-output"
        ]
      },
      "outputs": [
        {
          "output_type": "execute_result",
          "data": {
            "text/plain": [
              "-129.00000000000009"
            ]
          },
          "metadata": {},
          "execution_count": 20
        }
      ],
      "source": [
        "np.linalg.det(A)"
      ]
    },
    {
      "cell_type": "markdown",
      "metadata": {
        "id": "txxPAddm1hBS"
      },
      "source": [
        "---\n",
        "\n",
        "**EXERCISE** Compute the inverse and determinant of $B$ (defined previously).\n",
        "\n",
        "---"
      ]
    },
    {
      "cell_type": "code",
      "execution_count": 21,
      "metadata": {
        "id": "InU_qgzM1iB4"
      },
      "outputs": [],
      "source": [
        "# Write the solution here"
      ]
    },
    {
      "cell_type": "markdown",
      "source": [
        "## Rotations\n",
        "\n",
        "Rotation is a fundamental operation in computer graphics, robotics, and many other fields. In this exercise, you will create a 2D rotation matrix and apply it to a set of points.\n",
        "\n"
      ],
      "metadata": {
        "id": "u9loI_iq_3rg"
      }
    },
    {
      "cell_type": "markdown",
      "source": [
        "Generate a set of points in 2D forming a square. You can do this manually or use the `np.mgrid` function."
      ],
      "metadata": {
        "id": "cBqutQ9QAKWC"
      }
    },
    {
      "cell_type": "code",
      "source": [
        "points = np.array([[1, 1, -1, -1, 1], [1, -1, -1, 1, 1]])"
      ],
      "metadata": {
        "id": "7fzb7QucAMv2"
      },
      "execution_count": 22,
      "outputs": []
    },
    {
      "cell_type": "markdown",
      "source": [
        "Create a function that returns a 2D rotation matrix given an angle in degrees. The rotation matrix for a counterclockwise rotation by an angle $\\theta$ in 2D is:\n",
        "\n",
        "\\begin{bmatrix}\n",
        "\\cos(\\theta) & -\\sin(\\theta) \\\\\\\\\n",
        "\\sin(\\theta) & \\cos(\\theta)\n",
        "\\end{bmatrix}\n"
      ],
      "metadata": {
        "id": "vnt6X4Q_Azu3"
      }
    },
    {
      "cell_type": "code",
      "source": [
        "# Here is the function\n",
        "def rotation_matrix(theta):\n",
        "    theta_rad = np.deg2rad(theta)\n",
        "    R = np.array([[np.cos(theta_rad), -np.sin(theta_rad)],\n",
        "                  [np.sin(theta_rad), np.cos(theta_rad)]])\n",
        "    return R\n"
      ],
      "metadata": {
        "id": "R7gRsrlgA_zd"
      },
      "execution_count": 23,
      "outputs": []
    },
    {
      "cell_type": "markdown",
      "source": [
        "Apply the rotation matrix to the set of points for a few different angles (e.g., 45, 90, 180 degrees) and plot the original points and the transformed points using `plt.plot()`. You should see the square rotate.\n",
        "\n",
        "Dont'forget to import matplotlib for plotting."
      ],
      "metadata": {
        "id": "hNlTNuq6BHic"
      }
    },
    {
      "cell_type": "code",
      "source": [
        "import matplotlib.pyplot as plt\n",
        "\n",
        "for theta in [45, 90, 180]:\n",
        "    R = rotation_matrix(theta)\n",
        "    rotated_points = R @ points\n",
        "    plt.figure()\n",
        "    plt.plot(points[0, :], points[1, :], 'b-', label='Original')\n",
        "    plt.plot(rotated_points[0, :], rotated_points[1, :], 'r-', label='Rotated')\n",
        "    plt.axis('equal')\n",
        "    plt.legend()\n",
        "    plt.title(f'Rotation by {theta} degrees')\n",
        "    plt.show()\n"
      ],
      "metadata": {
        "colab": {
          "base_uri": "https://localhost:8080/",
          "height": 1000
        },
        "id": "vVXSbXZ-BLEJ",
        "outputId": "f7182596-c35e-4666-8cac-71296d61cbe0"
      },
      "execution_count": 24,
      "outputs": [
        {
          "output_type": "display_data",
          "data": {
            "text/plain": [
              "<Figure size 640x480 with 1 Axes>"
            ],
            "image/png": "[encoded data removed]"
          },
          "metadata": {}
        },
        {
          "output_type": "display_data",
          "data": {
            "text/plain": [
              "<Figure size 640x480 with 1 Axes>"
            ],
            "image/png": "[encoded data removed]"
          },
          "metadata": {}
        },
        {
          "output_type": "display_data",
          "data": {
            "text/plain": [
              "<Figure size 640x480 with 1 Axes>"
            ],
            "image/png": "[encoded data removed]"
          },
          "metadata": {}
        }
      ]
    },
    {
      "cell_type": "markdown",
      "source": [
        "---\n",
        "\n",
        "**EXERCISE** Generate a triangle, and apply the same rotation. Observe how the shape changes with different rotation angles.\n",
        "\n",
        "---"
      ],
      "metadata": {
        "id": "9_wYLyRD_sYJ"
      }
    },
    {
      "cell_type": "code",
      "source": [
        "# Write the solution here"
      ],
      "metadata": {
        "id": "doaW5G78CKT7"
      },
      "execution_count": null,
      "outputs": []
    },
    {
      "cell_type": "markdown",
      "metadata": {
        "id": "N3MPDa5UzYAN"
      },
      "source": [
        "## Summary\n",
        "\n",
        "In this section we have seen how to using Numpy:\n",
        "\n",
        "- Manipulate matrices;\n",
        "- Solve linear systems;\n",
        "- Compute Matrix inverses and determinants.\n",
        "\n",
        "This again just touches on the capabilities of Numpy. For more information please refere to this [Python tutorial.](https://github.com/kuleshov/teaching-material/blob/master/tutorials/python/cs228-python-tutorial.ipynb)"
      ]
    }
  ],
  "metadata": {
    "anaconda-cloud": {},
    "celltoolbar": "Tags",
    "colab": {
      "provenance": [],
      "include_colab_link": true
    },
    "kernelspec": {
      "display_name": "Python 3 (ipykernel)",
      "language": "python",
      "name": "python3"
    },
    "language_info": {
      "codemirror_mode": {
        "name": "ipython",
        "version": 3
      },
      "file_extension": ".py",
      "mimetype": "text/x-python",
      "name": "python",
      "nbconvert_exporter": "python",
      "pygments_lexer": "ipython3",
      "version": "3.9.12"
    }
  },
  "nbformat": 4,
  "nbformat_minor": 0
}