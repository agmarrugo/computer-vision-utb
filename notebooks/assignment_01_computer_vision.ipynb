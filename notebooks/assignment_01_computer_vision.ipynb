{
  "nbformat": 4,
  "nbformat_minor": 0,
  "metadata": {
    "colab": {
      "provenance": [],
      "toc_visible": true,
      "authorship_tag": "ABX9TyM9EV4HtYkvLnY1LBMqAUGI",
      "include_colab_link": true
    },
    "kernelspec": {
      "name": "python3",
      "display_name": "Python 3"
    },
    "language_info": {
      "name": "python"
    }
  },
  "cells": [
    {
      "cell_type": "markdown",
      "metadata": {
        "id": "view-in-github",
        "colab_type": "text"
      },
      "source": [
        "<a href=\"https://colab.research.google.com/github/agmarrugo/computer-vision-utb/blob/main/notebooks/assignment_01_computer_vision.ipynb\" target=\"_parent\"><img src=\"https://colab.research.google.com/assets/colab-badge.svg\" alt=\"Open In Colab\"/></a>"
      ]
    },
    {
      "cell_type": "markdown",
      "metadata": {
        "id": "apcbFp4CWgoc"
      },
      "source": [
        "# Assignment: Introduction to projective geometry\n",
        "\n",
        "Andrés Marrugo, PhD    \n",
        "Universidad Tecnológica de Bolívar    \n",
        "\n",
        "Adapted from Magnus Oskarsson, Lund University\n",
        "\n",
        "In this homework we will study the representation of points, lines and planes, and also their transformations under projection.\n",
        "\n",
        "The exercises are to be solved by \"hand\" although you may write the answers in markdown/LaTex or include a snapshot of your solution. The computer exercises are to be solved in the corresponding code cell. Enjoy!"
      ]
    },
    {
      "cell_type": "markdown",
      "metadata": {
        "id": "89NQnO5FhRIU"
      },
      "source": [
        "## Points in Homogeneous Coordinates\n",
        "\n",
        "### Exercise 1\n",
        "\n",
        " What is the 2D Cartesian coordinates of the points with homogeneous coordinates\n",
        "\n",
        "\\begin{align}\n",
        "\\mathbf{x_1} = \\left(\n",
        "\\begin{array}{c}\n",
        "4\\\\\n",
        "-2\\\\\n",
        "2\\\\\n",
        "\\end{array}\n",
        "\\right)\n",
        ",\\enspace\n",
        "\\mathbf{x_2} = \\left(\n",
        "\\begin{array}{c}\n",
        "3\\\\\n",
        "-2\\\\\n",
        "-1\\\\\n",
        "\\end{array}\n",
        "\\right)\n",
        ", \\enspace \\text{and }\n",
        "\\mathbf{x_3} = \\left(\n",
        "\\begin{array}{c}\n",
        "4\\lambda\\\\\n",
        "-2\\lambda\\\\\n",
        "2\\lambda\\\\\n",
        "\\end{array}\n",
        "\\right)\n",
        ",\\enspace\n",
        "\\lambda \\neq 0?\n",
        "\\end{align}\n",
        "\n",
        "\n",
        "What is the interpretation of the point with homogeneous coordinates\n",
        "\n",
        "\\begin{align}\n",
        "\\mathbf{x_4} = \\left(\n",
        "\\begin{array}{c}\n",
        "4\\\\\n",
        "-2\\\\\n",
        "0\\\\\n",
        "\\end{array}\n",
        "\\right)\n",
        "\\enspace?\n",
        "\\end{align}\n",
        "\n",
        "*For the report: Answers are enough.*\n"
      ]
    },
    {
      "cell_type": "markdown",
      "metadata": {
        "id": "dOhgtKJ65hpr"
      },
      "source": [
        "### Computer Exercise 1.\n",
        "Write a Python function `pflat` that divides the homogeneous coordinates with their last entry for points of any dimensionality. (You may assume that none of the points have last homogeneous coordinate zero.) Apply the function to the points in `x2D` and `x3D` in the file `compEx1.npz`, and plot the result."
      ]
    },
    {
      "cell_type": "code",
      "metadata": {
        "id": "TnG-VnmV7h3J"
      },
      "source": [
        "import numpy as np\n",
        "import pandas as pd\n",
        "import urllib.request\n",
        "import cv2 as cv\n",
        "from google.colab.patches import cv2_imshow # for image display\n",
        "from skimage import io\n",
        "from PIL import Image\n",
        "import matplotlib.pyplot as plt\n"
      ],
      "execution_count": null,
      "outputs": []
    },
    {
      "cell_type": "code",
      "metadata": {
        "id": "SoleM0HuJx9j"
      },
      "source": [
        "DATA_URL = 'https://github.com/agmarrugo/computer-vision-utb/blob/main/data/compEx1.npz?raw=true'\n",
        "\n",
        "urllib.request.urlretrieve(DATA_URL, 'compEx1.npz')\n",
        "\n",
        "data = np.load('compEx1.npz')\n",
        "\n",
        "x2D = data['x2D']\n",
        "x3D = data['x3D']\n",
        "\n",
        "# print(x2D)\n",
        "# print(x3D)\n"
      ],
      "execution_count": null,
      "outputs": []
    },
    {
      "cell_type": "code",
      "metadata": {
        "id": "iQxVl8ZSiV-P"
      },
      "source": [
        "# Computer Exercise 1 - Solution.\n",
        "\n",
        "def pflat(hx):\n",
        "  ''' pflat - Normalizes array of homogeneous coordinates (2D or 3D) and converts\n",
        "      to cartesian (inhomogeneous) coordinates.\n",
        "\n",
        "      Usage:  x = pflat(hx)\n",
        "      Argument:\n",
        "          hx  - an N x npts array of homogeneous coordinates.\n",
        "      Returns:\n",
        "          x - an (N-1) x npts array of cartesian (inhomogeneous) coordinates\n",
        "  '''\n",
        "\n",
        "  # write your code here.\n",
        "  # Useful commands:\n",
        "  # hx[-1] : indexes the last row of the array\n",
        "  # x[:-1] : indexes all rows except the last one\n",
        "\n",
        "  # return x\n",
        "\n",
        "# After defining the pflat function try it on the x2D and x3D points\n",
        "# x2Dn = pflat(x2D)\n",
        "# x2Dn.shape # verify shape\n",
        "# print(x2D) # verify values\n",
        "\n",
        "# Use the plt.plot command to plot the points in 2D\n",
        "# Use the ax.scatter3D command to plot points in 3D\n"
      ],
      "execution_count": null,
      "outputs": []
    },
    {
      "cell_type": "markdown",
      "metadata": {
        "id": "T620PHhf-mLC"
      },
      "source": [
        "### Exercise 2\n",
        "\n",
        "Compute the homogeneous coordinates of the intersection (in $\\mathbb{P}^2$) of the lines\n",
        "\n",
        "\\begin{align}\n",
        "l_1 = \\left(\n",
        "\\begin{array}{c}\n",
        "1\\\\\n",
        "1\\\\\n",
        "1\\\\\n",
        "\\end{array}\n",
        "\\right)\n",
        ", \\enspace \\text{and }\n",
        "l_2 = \\left(\n",
        "\\begin{array}{c}\n",
        "3\\\\\n",
        "2\\\\\n",
        "1\\\\\n",
        "\\end{array}\n",
        "\\right)\n",
        ".\\enspace\n",
        "\\end{align}\n",
        "\n",
        "What is the corresponding point in $\\mathbb{R}^2$?\n",
        "\n",
        "Compute the intersection (in $\\mathbb{P}^2$) of the lines\n",
        "\n",
        "\\begin{align}\n",
        "l_3 = \\left(\n",
        "\\begin{array}{c}\n",
        "1\\\\\n",
        "2\\\\\n",
        "3\\\\\n",
        "\\end{array}\n",
        "\\right)\n",
        ", \\enspace \\text{and }\n",
        "l_4 = \\left(\n",
        "\\begin{array}{c}\n",
        "1\\\\\n",
        "2\\\\\n",
        "1\\\\\n",
        "\\end{array}\n",
        "\\right)\n",
        ".\\enspace\n",
        "\\end{align}\n",
        "\n",
        "what is the geometric interpretation in $\\mathbb{R}^2$?\n",
        "\n",
        "Compute the line that goes through the points with Cartesian coordinates\n",
        "\n",
        "\\begin{align}\n",
        "x_1 = \\left(\n",
        "\\begin{array}{c}\n",
        "1\\\\\n",
        "1\\\\\n",
        "\\end{array}\n",
        "\\right)\n",
        ", \\enspace \\text{and }\n",
        "x_2 = \\left(\n",
        "\\begin{array}{c}\n",
        "3\\\\\n",
        "2\\\\\n",
        "\\end{array}\n",
        "\\right)\n",
        ".\\enspace\n",
        "\\end{align}\n",
        "\n",
        "Hint: Re-use the calculations from the line intersections above.\n",
        "\n",
        "*For the report: Submit a complete solution.*"
      ]
    },
    {
      "cell_type": "markdown",
      "metadata": {
        "id": "kLxHD15f_zSV"
      },
      "source": [
        "### Computer exercise 2\n",
        "\n",
        "Load and plot the image in compEx2.jpg.\n",
        "\n",
        "In the file `compEx2.npz` there are three pairs of image points. Plot the image points in the same figure as the image.\n",
        "\n",
        "For each pair of points compute the line going through the points. Use the function `linePoints` to plot the lines in the same image. Do these lines appear to be parallel (in 3D)?\n",
        "\n",
        "Compute the point of intersection between the second and third line (the lines obtained from the pairs `p2` and `p3`). Plot this point in the same image.\n",
        "\n",
        "The distance between a 2D-point $x = (x_1, x_2)$ in Cartesian coordinates and a line $l = (a, b, c)$ can be computed using the distance formula\n",
        "\n",
        "\\begin{align}\n",
        "d = \\frac{|ax_1 + bx_2 + c|}{\\sqrt{a^2+b^2}}\n",
        "\\end{align}\n",
        "\n",
        "see your linear algebra book. Compute the distance between the first line and the the intersection point. Is it close to zero? Why/why not?"
      ]
    },
    {
      "cell_type": "code",
      "metadata": {
        "id": "jZs36K5tCA0j"
      },
      "source": [
        "# Computer Exercise 2 - Solution.\n",
        "\n",
        "# You will use this function for plotting the lines\n",
        "def linePoints(line = [0, 0, 0], ref = [-1.,1.]):\n",
        "    \"\"\"given a,b,c for straight line as ax+by+c=0,\n",
        "    return and plot a pair of points based on ref values\n",
        "    e.g linePoints(-1,1,2) == [[-1.0, -3.0], [1.0, -1.0]]\n",
        "    \"\"\"\n",
        "    a = line[0]\n",
        "    b = line[1]\n",
        "    c = line[2]\n",
        "    if (a==0 and b==0):\n",
        "      raise Exception(\"linePoints: a and b cannot both be zero\")\n",
        "    else:\n",
        "      points = np.array([[-c/a,p] if b==0 else [p,(-c-a*p)/b] for p in ref])\n",
        "      plt.plot(points[:, 0], points[:, 1])\n",
        "      return points\n",
        "\n",
        "DATA_URL = 'https://github.com/agmarrugo/computer-vision-utb/blob/main/data/compEx2.npz?raw=true'\n",
        "IMAGE_URL = 'https://github.com/agmarrugo/computer-vision-utb/blob/main/data/compEx2.JPG?raw=true'\n",
        "\n",
        "urllib.request.urlretrieve(DATA_URL, 'compEx2.npz')\n",
        "\n",
        "data = np.load('compEx2.npz')\n",
        "\n",
        "p1 = data['p1']\n",
        "p2 = data['p2']\n",
        "p3 = data['p3']\n",
        "\n",
        "# image = load image from IMAGE_URL\n",
        "\n",
        "# plt.imshow(image)\n",
        "# plt.plot(p1[0,:], p1[1,:], 'r*')\n",
        "# plot remaining points\n",
        "\n",
        "# plt.show()\n",
        "\n",
        "# Use np.cross to calculate the lines lp1, lp2, and lp3\n",
        "# Plot the lines using the function linePoints\n",
        "\n",
        "# Use np.cross to calculate the intersection x23 of lines lp2 and lp3\n",
        "# Plot the intersection\n",
        "\n",
        "# Calculate the distance from the intersection x23 to the line lp1\n",
        "# Use the above equation\n",
        "\n",
        "# Print the result\n",
        "# print('The distance from x23 to lp1 is %2.2f' % d)"
      ],
      "execution_count": null,
      "outputs": []
    },
    {
      "cell_type": "markdown",
      "metadata": {
        "id": "OP998uwMZym9"
      },
      "source": [
        "## Projective transformations\n",
        "\n",
        "### Exercise 3   \n",
        "\n",
        "Let $H$ be the projective transformation\n",
        "\n",
        "\\begin{align}\n",
        "H =\n",
        "\\left(\n",
        "\\begin{array}{ccc}\n",
        "1 & 1 & 0 \\\\\n",
        "0 & 1 & 0 \\\\\n",
        "-1 & 0 & 1 \\\\\n",
        "\\end{array}\n",
        "\\right) \\enspace.\n",
        "\\end{align}\n",
        "\n",
        "Compute the transformations $\\mathbf{y_1} \\sim H\\mathbf{x_1}$ and $\\mathbf{y_2} \\sim H\\mathbf{x_2}$ if\n",
        "\n",
        "\\begin{align}\n",
        "\\mathbf{x_1} = \\left(\n",
        "\\begin{array}{c}\n",
        "1\\\\\n",
        "0\\\\\n",
        "1\\\\\n",
        "\\end{array}\n",
        "\\right)\n",
        ", \\enspace \\text{and }\n",
        "\\mathbf{x_2} = \\left(\n",
        "\\begin{array}{c}\n",
        "0\\\\\n",
        "1\\\\\n",
        "1\\\\\n",
        "\\end{array}\n",
        "\\right)\n",
        ".\\enspace\n",
        "\\end{align}\n",
        "\n",
        "Compute the lines $l_1$, $l_2$ containing $\\mathbf{x_1}$, $\\mathbf{x_2}$, and $\\mathbf{y_1}$, $\\mathbf{y_2}$, respectively.\n",
        "\n",
        "Compute $(H^{-1})^T l_1$ and compare to $l_2$.\n",
        "\n",
        "*For the report: Submit the answers.*"
      ]
    },
    {
      "cell_type": "markdown",
      "metadata": {
        "id": "aOvjm_69HJ6h"
      },
      "source": [
        "### Computer Exercise 3\n",
        "\n",
        "The file `compEx3.npz` contains the start and end points of a set of lines. Plotting the lines gives the grid shown in the figure below.\n",
        "\n",
        "For each of the projective mappings given by the matrices\n",
        "\n",
        "\\begin{align}\n",
        "H_1 =\n",
        "\\left(\n",
        "\\begin{array}{ccc}\n",
        "\\sqrt{3} & -1 & 1 \\\\\n",
        "1 & \\sqrt{3} & 1 \\\\\n",
        "0 & 0 & 2 \\\\\n",
        "\\end{array}\n",
        "\\right), \\enspace \\text{and }\n",
        "H_2 =\n",
        "\\left(\n",
        "\\begin{array}{ccc}\n",
        "1 & -1 & 1 \\\\\n",
        "1 & 1 & 0 \\\\\n",
        "0 & 0 & 1 \\\\\n",
        "\\end{array}\n",
        "\\right)\n",
        "\\enspace,\n",
        "\\end{align}\n",
        "\n",
        "\\begin{align}\n",
        "H_3 =\n",
        "\\left(\n",
        "\\begin{array}{ccc}\n",
        "1 & 1 & 0 \\\\\n",
        "0 & 2 & 0 \\\\\n",
        "0 & 0 & 1 \\\\\n",
        "\\end{array}\n",
        "\\right), \\enspace \\text{and }\n",
        "H_4 =\n",
        "\\left(\n",
        "\\begin{array}{ccc}\n",
        "\\sqrt{3} & -1 & 1 \\\\\n",
        "1 & \\sqrt{3} & 1 \\\\\n",
        "1/4 & 1/2 & 2 \\\\\n",
        "\\end{array}\n",
        "\\right)\n",
        "\\enspace,\n",
        "\\end{align}\n",
        "\n",
        "compute the transformations of the given start and endpoints and plot the lines between them. (Note that you do not need to loop over the points. One matrix multiplication for the start and end points is enough. To compute cartesian coordinates you can use your `pflat` function. Don’t forget to use the `plt.axis('equal')` command, otherwise the figures might look distorted.)\n",
        "\n",
        "Which of the transformations preserve lengths between points? Which preserve angles between lines? Which maps parallel lines to parallel lines? Classify the transformations into euclidean, similarity, affine and projective transformations."
      ]
    },
    {
      "cell_type": "code",
      "metadata": {
        "colab": {
          "base_uri": "https://localhost:8080/",
          "height": 265
        },
        "id": "3pWLdpZ6G9Yv",
        "outputId": "1cf4417a-44fa-4065-984a-c6453375e184"
      },
      "source": [
        "# Computer Exercise 3 - Solution.\n",
        "\n",
        "DATA_URL = 'https://github.com/agmarrugo/computer-vision-utb/blob/main/data/compEx3.npz?raw=true'\n",
        "\n",
        "import urllib.request\n",
        "urllib.request.urlretrieve(DATA_URL, 'compEx3.npz')\n",
        "\n",
        "data = np.load('compEx3.npz')\n",
        "\n",
        "startpoints = data['startpoints']\n",
        "endpoints = data['endpoints']\n",
        "\n",
        "# Plot the grid\n",
        "plt.plot([startpoints[0, :], endpoints[0, :]], [startpoints[1, :], endpoints[1, :]], 'b-')\n",
        "plt.axis('equal')\n",
        "plt.show()\n",
        "\n",
        "# Build the transformation matrices\n",
        "H1 = np.array([[np.sqrt(3), -1, 1], [1, np.sqrt(3), 1], [0, 0, 2]])\n",
        "\n",
        "# Make the points homogeneous points (remember to add a row of 1s)\n",
        "\n",
        "# Transform the points by matrix multiplication (remember to use the @ operator)\n",
        "\n",
        "# Convert back to cartesian coordinates. You can use your pflat() function\n",
        "\n",
        "# Include one plot per each transformation matrix\n"
      ],
      "execution_count": null,
      "outputs": [
        {
          "output_type": "display_data",
          "data": {
            "image/png": "[encoded data removed]",
            "text/plain": [
              "<Figure size 432x288 with 1 Axes>"
            ]
          },
          "metadata": {
            "tags": [],
            "needs_background": "light"
          }
        }
      ]
    }
  ]
}