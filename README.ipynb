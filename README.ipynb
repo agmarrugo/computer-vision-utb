{
  "nbformat": 4,
  "nbformat_minor": 0,
  "metadata": {
    "colab": {
      "name": "README.ipynb",
      "provenance": [],
      "authorship_tag": "ABX9TyOTmeRI2tCyA9YewZVOFMGw",
      "include_colab_link": true
    },
    "kernelspec": {
      "name": "python3",
      "display_name": "Python 3"
    },
    "language_info": {
      "name": "python"
    }
  },
  "cells": [
    {
      "cell_type": "markdown",
      "metadata": {
        "id": "view-in-github",
        "colab_type": "text"
      },
      "source": [
        "<a href=\"https://colab.research.google.com/github/agmarrugo/computer-vision-utb/blob/main/README.ipynb\" target=\"_parent\"><img src=\"https://colab.research.google.com/assets/colab-badge.svg\" alt=\"Open In Colab\"/></a>"
      ]
    },
    {
      "cell_type": "markdown",
      "metadata": {
        "id": "ianSTM8htVhr"
      },
      "source": [
        "Computer Vision\n",
        "===\n",
        "\n",
        "**Notes and Jupyter notebooks for the Computer Vision undergraduate course at UTB**\n",
        "\n",
        "Andrés Marrugo, PhD\n",
        "\n",
        "\n",
        "This repository is a collection of Jupyter notebooks in the form of lecture notes and course activities for the course IMTR A08A Visión Artificial taught at the [Universidad Tecnológica de Bolívar](http://www.utb.edu.co/). The lectures notes or activities are written using the [Jupyter IPython Notebook](https://jupyter.org/), part of the [Python ecosystem for scientific computing]( http://scipy.org/ ). You can view these lectures in different ways: simply read on line by clicking on the links below; or download a single notebook or all the stuff or yet fork this entire repository using the GitHub resources and run the notebooks in your computer or in the cloud by clicking on the Open in Colab button. I hope this material is useful to you and I am open to suggestions or comments.\n",
        "\n",
        "\n",
        "Introduction\n",
        "------------\n",
        "\n",
        "We will be using Jupyter Python notebooks as a numerical computing and graphical platform for solving many problems in the course. To avoid installing Jupyter Python locally, I encourage you to use Google Colab. \n",
        "\n",
        "- [Python Tutorial](https://colab.research.google.com/github/cs231n/cs231n.github.io/blob/master/python-colab.ipynb)\n",
        "- [Introduction to colab](https://colab.research.google.com/notebooks/welcome.ipynb)\n",
        "\n",
        "## Activity 1 - Linear algebra primer\n",
        "\n",
        "- [Linear algebra with Numpy](https://github.com/agmarrugo/computer-vision-utb/blob/main/notebooks/00_Linear_algebra_with_Numpy.ipynb)\n",
        "\n",
        "## Activity 2 - Manipulating images and OpenCV\n",
        "\n",
        "- [Manipulating images in Python](https://github.com/agmarrugo/computer-vision-utb/blob/main/notebooks/01_Image_Processing_in_Python_Final.ipynb)\n"
      ]
    }
  ]
}